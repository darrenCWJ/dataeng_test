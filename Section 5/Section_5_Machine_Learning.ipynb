{
 "cells": [
  {
   "cell_type": "markdown",
   "id": "82a55403",
   "metadata": {},
   "source": [
    "# Machine learning\n",
    "To process information of data through machine learning method to predict if buying based on the following information\n",
    "\n",
    "-Maintenance = High\\\n",
    "-Number of doors = 4\\\n",
    "-Lug Boot Size = Big\\\n",
    "-Safety = High\\\n",
    "-Class Value = Good"
   ]
  },
  {
   "cell_type": "code",
   "execution_count": 1,
   "id": "c0ce1e3d",
   "metadata": {},
   "outputs": [],
   "source": [
    "import pandas as pd\n",
    "import numpy as np\n",
    "from numpy import random\n",
    "from sklearn.metrics import confusion_matrix\n",
    "from sklearn.tree import DecisionTreeClassifier\n",
    "from sklearn.ensemble import RandomForestClassifier\n",
    "from sklearn.neighbors import KNeighborsClassifier\n",
    "from sklearn.model_selection import train_test_split\n",
    "from sklearn.preprocessing import OrdinalEncoder\n",
    "from sklearn.preprocessing import OneHotEncoder\n",
    "from sklearn.preprocessing import LabelEncoder\n",
    "from sklearn import metrics\n",
    "import math"
   ]
  },
  {
   "cell_type": "markdown",
   "id": "6ecdad1b",
   "metadata": {},
   "source": [
    "# Import Dataset"
   ]
  },
  {
   "cell_type": "code",
   "execution_count": 2,
   "id": "b2922767",
   "metadata": {},
   "outputs": [
    {
     "data": {
      "text/plain": [
       "<bound method NDFrame.head of      buying  maint  doors persons lug_boot safety  Class\n",
       "0     vhigh  vhigh      2       2    small    low  unacc\n",
       "1     vhigh  vhigh      2       2    small    med  unacc\n",
       "2     vhigh  vhigh      2       2    small   high  unacc\n",
       "3     vhigh  vhigh      2       2      med    low  unacc\n",
       "4     vhigh  vhigh      2       2      med    med  unacc\n",
       "...     ...    ...    ...     ...      ...    ...    ...\n",
       "1723    low    low  5more    more      med    med   good\n",
       "1724    low    low  5more    more      med   high  vgood\n",
       "1725    low    low  5more    more      big    low  unacc\n",
       "1726    low    low  5more    more      big    med   good\n",
       "1727    low    low  5more    more      big   high  vgood\n",
       "\n",
       "[1728 rows x 7 columns]>"
      ]
     },
     "execution_count": 2,
     "metadata": {},
     "output_type": "execute_result"
    }
   ],
   "source": [
    "df = pd.read_csv('https://archive.ics.uci.edu/ml/machine-learning-databases/car/car.data',\n",
    "                 names= ['buying','maint','doors','persons','lug_boot','safety','Class'])\n",
    "\n",
    "df.head"
   ]
  },
  {
   "cell_type": "code",
   "execution_count": 3,
   "id": "14fed466",
   "metadata": {},
   "outputs": [
    {
     "data": {
      "text/plain": [
       "Index(['buying', 'maint', 'doors', 'persons', 'lug_boot', 'safety', 'Class'], dtype='object')"
      ]
     },
     "execution_count": 3,
     "metadata": {},
     "output_type": "execute_result"
    }
   ],
   "source": [
    "df.columns # seeing the columns that we have"
   ]
  },
  {
   "cell_type": "markdown",
   "id": "019bede2",
   "metadata": {},
   "source": [
    "# Cleaning data to only contain information we need"
   ]
  },
  {
   "cell_type": "code",
   "execution_count": 4,
   "id": "61f6fa5a",
   "metadata": {},
   "outputs": [],
   "source": [
    "df.drop(['persons'],axis = 1 ,inplace = True)"
   ]
  },
  {
   "cell_type": "code",
   "execution_count": 5,
   "id": "8e463a6c",
   "metadata": {},
   "outputs": [
    {
     "data": {
      "text/plain": [
       "Index(['buying', 'maint', 'doors', 'lug_boot', 'safety', 'Class'], dtype='object')"
      ]
     },
     "execution_count": 5,
     "metadata": {},
     "output_type": "execute_result"
    }
   ],
   "source": [
    " df.columns # check if column is drop properly"
   ]
  },
  {
   "cell_type": "markdown",
   "id": "b5698a8e",
   "metadata": {},
   "source": [
    "# Preparing X and Y data"
   ]
  },
  {
   "cell_type": "code",
   "execution_count": 6,
   "id": "c0175147",
   "metadata": {},
   "outputs": [],
   "source": [
    "x_data = df.drop(['buying'], axis = 1).copy() #all other independent variable\n",
    "\n",
    "y_data = df['buying'].copy() # the dependant variable"
   ]
  },
  {
   "cell_type": "code",
   "execution_count": 7,
   "id": "7560c917",
   "metadata": {},
   "outputs": [
    {
     "data": {
      "text/html": [
       "<div>\n",
       "<style scoped>\n",
       "    .dataframe tbody tr th:only-of-type {\n",
       "        vertical-align: middle;\n",
       "    }\n",
       "\n",
       "    .dataframe tbody tr th {\n",
       "        vertical-align: top;\n",
       "    }\n",
       "\n",
       "    .dataframe thead th {\n",
       "        text-align: right;\n",
       "    }\n",
       "</style>\n",
       "<table border=\"1\" class=\"dataframe\">\n",
       "  <thead>\n",
       "    <tr style=\"text-align: right;\">\n",
       "      <th></th>\n",
       "      <th>maint</th>\n",
       "      <th>doors</th>\n",
       "      <th>lug_boot</th>\n",
       "      <th>safety</th>\n",
       "      <th>Class</th>\n",
       "    </tr>\n",
       "  </thead>\n",
       "  <tbody>\n",
       "    <tr>\n",
       "      <th>0</th>\n",
       "      <td>vhigh</td>\n",
       "      <td>2</td>\n",
       "      <td>small</td>\n",
       "      <td>low</td>\n",
       "      <td>unacc</td>\n",
       "    </tr>\n",
       "    <tr>\n",
       "      <th>1</th>\n",
       "      <td>vhigh</td>\n",
       "      <td>2</td>\n",
       "      <td>small</td>\n",
       "      <td>med</td>\n",
       "      <td>unacc</td>\n",
       "    </tr>\n",
       "    <tr>\n",
       "      <th>2</th>\n",
       "      <td>vhigh</td>\n",
       "      <td>2</td>\n",
       "      <td>small</td>\n",
       "      <td>high</td>\n",
       "      <td>unacc</td>\n",
       "    </tr>\n",
       "    <tr>\n",
       "      <th>3</th>\n",
       "      <td>vhigh</td>\n",
       "      <td>2</td>\n",
       "      <td>med</td>\n",
       "      <td>low</td>\n",
       "      <td>unacc</td>\n",
       "    </tr>\n",
       "    <tr>\n",
       "      <th>4</th>\n",
       "      <td>vhigh</td>\n",
       "      <td>2</td>\n",
       "      <td>med</td>\n",
       "      <td>med</td>\n",
       "      <td>unacc</td>\n",
       "    </tr>\n",
       "    <tr>\n",
       "      <th>...</th>\n",
       "      <td>...</td>\n",
       "      <td>...</td>\n",
       "      <td>...</td>\n",
       "      <td>...</td>\n",
       "      <td>...</td>\n",
       "    </tr>\n",
       "    <tr>\n",
       "      <th>1723</th>\n",
       "      <td>low</td>\n",
       "      <td>5more</td>\n",
       "      <td>med</td>\n",
       "      <td>med</td>\n",
       "      <td>good</td>\n",
       "    </tr>\n",
       "    <tr>\n",
       "      <th>1724</th>\n",
       "      <td>low</td>\n",
       "      <td>5more</td>\n",
       "      <td>med</td>\n",
       "      <td>high</td>\n",
       "      <td>vgood</td>\n",
       "    </tr>\n",
       "    <tr>\n",
       "      <th>1725</th>\n",
       "      <td>low</td>\n",
       "      <td>5more</td>\n",
       "      <td>big</td>\n",
       "      <td>low</td>\n",
       "      <td>unacc</td>\n",
       "    </tr>\n",
       "    <tr>\n",
       "      <th>1726</th>\n",
       "      <td>low</td>\n",
       "      <td>5more</td>\n",
       "      <td>big</td>\n",
       "      <td>med</td>\n",
       "      <td>good</td>\n",
       "    </tr>\n",
       "    <tr>\n",
       "      <th>1727</th>\n",
       "      <td>low</td>\n",
       "      <td>5more</td>\n",
       "      <td>big</td>\n",
       "      <td>high</td>\n",
       "      <td>vgood</td>\n",
       "    </tr>\n",
       "  </tbody>\n",
       "</table>\n",
       "<p>1728 rows × 5 columns</p>\n",
       "</div>"
      ],
      "text/plain": [
       "      maint  doors lug_boot safety  Class\n",
       "0     vhigh      2    small    low  unacc\n",
       "1     vhigh      2    small    med  unacc\n",
       "2     vhigh      2    small   high  unacc\n",
       "3     vhigh      2      med    low  unacc\n",
       "4     vhigh      2      med    med  unacc\n",
       "...     ...    ...      ...    ...    ...\n",
       "1723    low  5more      med    med   good\n",
       "1724    low  5more      med   high  vgood\n",
       "1725    low  5more      big    low  unacc\n",
       "1726    low  5more      big    med   good\n",
       "1727    low  5more      big   high  vgood\n",
       "\n",
       "[1728 rows x 5 columns]"
      ]
     },
     "execution_count": 7,
     "metadata": {},
     "output_type": "execute_result"
    }
   ],
   "source": [
    "x_data # view x data"
   ]
  },
  {
   "cell_type": "code",
   "execution_count": 8,
   "id": "d9a72a83",
   "metadata": {},
   "outputs": [
    {
     "data": {
      "text/html": [
       "<div>\n",
       "<style scoped>\n",
       "    .dataframe tbody tr th:only-of-type {\n",
       "        vertical-align: middle;\n",
       "    }\n",
       "\n",
       "    .dataframe tbody tr th {\n",
       "        vertical-align: top;\n",
       "    }\n",
       "\n",
       "    .dataframe thead th {\n",
       "        text-align: right;\n",
       "    }\n",
       "</style>\n",
       "<table border=\"1\" class=\"dataframe\">\n",
       "  <thead>\n",
       "    <tr style=\"text-align: right;\">\n",
       "      <th></th>\n",
       "      <th>buying</th>\n",
       "    </tr>\n",
       "  </thead>\n",
       "  <tbody>\n",
       "    <tr>\n",
       "      <th>0</th>\n",
       "      <td>vhigh</td>\n",
       "    </tr>\n",
       "    <tr>\n",
       "      <th>1</th>\n",
       "      <td>vhigh</td>\n",
       "    </tr>\n",
       "    <tr>\n",
       "      <th>2</th>\n",
       "      <td>vhigh</td>\n",
       "    </tr>\n",
       "    <tr>\n",
       "      <th>3</th>\n",
       "      <td>vhigh</td>\n",
       "    </tr>\n",
       "    <tr>\n",
       "      <th>4</th>\n",
       "      <td>vhigh</td>\n",
       "    </tr>\n",
       "    <tr>\n",
       "      <th>...</th>\n",
       "      <td>...</td>\n",
       "    </tr>\n",
       "    <tr>\n",
       "      <th>1723</th>\n",
       "      <td>low</td>\n",
       "    </tr>\n",
       "    <tr>\n",
       "      <th>1724</th>\n",
       "      <td>low</td>\n",
       "    </tr>\n",
       "    <tr>\n",
       "      <th>1725</th>\n",
       "      <td>low</td>\n",
       "    </tr>\n",
       "    <tr>\n",
       "      <th>1726</th>\n",
       "      <td>low</td>\n",
       "    </tr>\n",
       "    <tr>\n",
       "      <th>1727</th>\n",
       "      <td>low</td>\n",
       "    </tr>\n",
       "  </tbody>\n",
       "</table>\n",
       "<p>1728 rows × 1 columns</p>\n",
       "</div>"
      ],
      "text/plain": [
       "     buying\n",
       "0     vhigh\n",
       "1     vhigh\n",
       "2     vhigh\n",
       "3     vhigh\n",
       "4     vhigh\n",
       "...     ...\n",
       "1723    low\n",
       "1724    low\n",
       "1725    low\n",
       "1726    low\n",
       "1727    low\n",
       "\n",
       "[1728 rows x 1 columns]"
      ]
     },
     "execution_count": 8,
     "metadata": {},
     "output_type": "execute_result"
    }
   ],
   "source": [
    "y_data.to_frame() # view y data"
   ]
  },
  {
   "cell_type": "markdown",
   "id": "5a121c33",
   "metadata": {},
   "source": [
    "# Data Preprocessing"
   ]
  },
  {
   "cell_type": "code",
   "execution_count": 9,
   "id": "8420320b",
   "metadata": {},
   "outputs": [],
   "source": [
    "# setting up categories for ordinal categorical variable\n",
    "maint_cat = ['low', 'med', 'high', 'vhigh']\n",
    "doors_cat = ['2', '3', '4', '5more']\n",
    "lug_boot_cat = ['small', 'med', 'big']\n",
    "safety_cat = ['low', 'med', 'high']\n",
    "class_cat = ['unacc', 'acc', 'good', 'vgood']\n",
    "Ord_encoder = OrdinalEncoder(categories = [maint_cat,doors_cat,lug_boot_cat,safety_cat,class_cat])\n"
   ]
  },
  {
   "cell_type": "code",
   "execution_count": 10,
   "id": "c3459ab1",
   "metadata": {},
   "outputs": [],
   "source": [
    "ordinal_data = Ord_encoder.fit_transform(x_data,Ord_encoder)"
   ]
  },
  {
   "cell_type": "code",
   "execution_count": 11,
   "id": "51a34afd",
   "metadata": {},
   "outputs": [],
   "source": [
    "# For dummy variable encoding using Hot\n",
    "Hot_encoder = OneHotEncoder(sparse=False)"
   ]
  },
  {
   "cell_type": "code",
   "execution_count": 12,
   "id": "8bca153a",
   "metadata": {},
   "outputs": [],
   "source": [
    "Hot_encoder.fit(x_data)\n",
    "onehot_data = Hot_encoder.transform(x_data)"
   ]
  },
  {
   "cell_type": "code",
   "execution_count": 13,
   "id": "d30d8c6a",
   "metadata": {},
   "outputs": [],
   "source": [
    "# ordinal encode target variable\n",
    "label_encoder = LabelEncoder()\n",
    "y_data = label_encoder.fit_transform(y_data)"
   ]
  },
  {
   "cell_type": "markdown",
   "id": "6b589cb1",
   "metadata": {},
   "source": [
    "# Seperating the data"
   ]
  },
  {
   "cell_type": "code",
   "execution_count": 14,
   "id": "e5ce4e86",
   "metadata": {},
   "outputs": [],
   "source": [
    "x_train, x_test, y_train, y_test = train_test_split(ordinal_data, y_data, test_size=0.3, random_state=2022) # setting seed"
   ]
  },
  {
   "cell_type": "markdown",
   "id": "c0ac719a",
   "metadata": {},
   "source": [
    "# Trying out different models to find best accuracies to use"
   ]
  },
  {
   "cell_type": "code",
   "execution_count": 15,
   "id": "b806c9a5",
   "metadata": {},
   "outputs": [
    {
     "name": "stdout",
     "output_type": "stream",
     "text": [
      "[[11 21 31 54]\n",
      " [35 19 53 24]\n",
      " [44 36 17 31]\n",
      " [63 22 32 26]]\n",
      "Accuracy: 0.14065510597302505\n"
     ]
    }
   ],
   "source": [
    "# Running with Ordinal category data with Random Forest\n",
    "random.seed(2022) # set seed to make it reproducible\n",
    "O_rf = RandomForestClassifier()\n",
    "O_rf.fit(x_train,y_train)\n",
    "\n",
    "y_pred=O_rf.predict(x_test)\n",
    "print(confusion_matrix(y_test, y_pred))\n",
    "print(\"Accuracy:\",metrics.accuracy_score(y_test, y_pred))"
   ]
  },
  {
   "cell_type": "code",
   "execution_count": 16,
   "id": "68142d97",
   "metadata": {},
   "outputs": [
    {
     "name": "stdout",
     "output_type": "stream",
     "text": [
      "[[24 31 24 38]\n",
      " [51 29 38 13]\n",
      " [66 39  3 20]\n",
      " [96 17 18 12]]\n",
      "Accuracy: 0.13102119460500963\n"
     ]
    }
   ],
   "source": [
    "# Running with Ordinal category data with Decision Tree\n",
    "O_dTree = DecisionTreeClassifier()\n",
    "O_dTree.fit(x_train,y_train)\n",
    "y_pred=O_dTree.predict(x_test)\n",
    "print(confusion_matrix(y_test, y_pred))\n",
    "print(\"Accuracy:\",metrics.accuracy_score(y_test, y_pred))"
   ]
  },
  {
   "cell_type": "code",
   "execution_count": 17,
   "id": "34c68522",
   "metadata": {},
   "outputs": [
    {
     "name": "stdout",
     "output_type": "stream",
     "text": [
      "[[38 11 29 39]\n",
      " [43 36 33 19]\n",
      " [51 30 23 24]\n",
      " [76 14 18 35]]\n",
      "Accuracy: 0.2543352601156069\n"
     ]
    }
   ],
   "source": [
    "# Running with Ordinal category data with K nearest-neighbour\n",
    "O_neigh = KNeighborsClassifier(n_neighbors=int(math.sqrt((len(x_data)))))\n",
    "O_neigh.fit(x_train,y_train)\n",
    "y_pred=O_neigh.predict(x_test)\n",
    "print(confusion_matrix(y_test, y_pred))\n",
    "print(\"Accuracy:\",metrics.accuracy_score(y_test, y_pred))"
   ]
  },
  {
   "cell_type": "markdown",
   "id": "ed09fd17",
   "metadata": {},
   "source": [
    "# Trying the 3 models with One hot Encoding Method"
   ]
  },
  {
   "cell_type": "code",
   "execution_count": 18,
   "id": "9e9f4d06",
   "metadata": {},
   "outputs": [],
   "source": [
    "# setting seed to 2022 to match seperation from Ordinal\n",
    "x_train_hot, x_test_hot, y_train_hot, y_test_hot = train_test_split(onehot_data, y_data, test_size=0.3, random_state=2022)"
   ]
  },
  {
   "cell_type": "code",
   "execution_count": 19,
   "id": "be0ef0b4",
   "metadata": {},
   "outputs": [
    {
     "name": "stdout",
     "output_type": "stream",
     "text": [
      "[[10 22 31 54]\n",
      " [31 23 51 26]\n",
      " [41 41 14 32]\n",
      " [60 26 31 26]]\n",
      "Accuracy: 0.14065510597302505\n"
     ]
    }
   ],
   "source": [
    "# Running with Dummy(Hot) category data with Random Forest\n",
    "random.seed(2022) # set seed to make it reproducible\n",
    "H_rf = RandomForestClassifier()\n",
    "H_rf.fit(x_train_hot,y_train_hot)\n",
    "\n",
    "y_pred_hot =H_rf.predict(x_test_hot)\n",
    "print(confusion_matrix(y_test_hot, y_pred_hot))\n",
    "print(\"Accuracy:\",metrics.accuracy_score(y_test_hot, y_pred_hot))"
   ]
  },
  {
   "cell_type": "code",
   "execution_count": 20,
   "id": "3adaa998",
   "metadata": {},
   "outputs": [
    {
     "name": "stdout",
     "output_type": "stream",
     "text": [
      "[[24 31 24 38]\n",
      " [51 29 38 13]\n",
      " [66 39  3 20]\n",
      " [96 17 18 12]]\n",
      "Accuracy: 0.13102119460500963\n"
     ]
    }
   ],
   "source": [
    "# Running with Dummy(Hot) category data with Decision Tree\n",
    "H_dTree = DecisionTreeClassifier()\n",
    "H_dTree.fit(x_train_hot,y_train_hot)\n",
    "\n",
    "y_pred_hot=H_dTree.predict(x_test_hot)\n",
    "print(confusion_matrix(y_test_hot, y_pred_hot))\n",
    "print(\"Accuracy:\",metrics.accuracy_score(y_test_hot, y_pred_hot))"
   ]
  },
  {
   "cell_type": "code",
   "execution_count": 21,
   "id": "b189f60e",
   "metadata": {
    "scrolled": true
   },
   "outputs": [
    {
     "name": "stdout",
     "output_type": "stream",
     "text": [
      "[[50 15 18 34]\n",
      " [34 40 37 20]\n",
      " [46 28 31 23]\n",
      " [68 23 16 36]]\n",
      "Accuracy: 0.302504816955684\n"
     ]
    }
   ],
   "source": [
    "# Running with Dummy(Hot) category data with K nearest-neighbour\n",
    "H_neigh = KNeighborsClassifier(n_neighbors=int(math.sqrt((len(x_data)))))\n",
    "H_neigh.fit(x_train_hot,y_train_hot)\n",
    "\n",
    "y_pred_hot=H_neigh.predict(x_test_hot)\n",
    "print(confusion_matrix(y_test_hot, y_pred_hot))\n",
    "print(\"Accuracy:\",metrics.accuracy_score(y_test_hot, y_pred_hot))"
   ]
  },
  {
   "cell_type": "markdown",
   "id": "0a36d8be",
   "metadata": {},
   "source": [
    "# Selecting the best model with highest accuracy to predict\n",
    "\n",
    "Based on the accuracy from the previous data, KNN with Hot encoding produce the best result therefore we will use it to predict the question with it"
   ]
  },
  {
   "cell_type": "code",
   "execution_count": 22,
   "id": "3196a949",
   "metadata": {},
   "outputs": [],
   "source": [
    "\"\"\"\n",
    "-Maintenance = High\n",
    "-Number of doors = 4\n",
    "-Lug Boot Size = Big\n",
    "-Safety = High\n",
    "-Class Value = Good\n",
    "\"\"\"\n",
    "question = [{'maint':'high','doors':'4','lug_boot':'big','safety':'high','Class':'good'}]\n",
    "question_df =  pd.DataFrame(question) # placing the question to a dataframe to do HOT encoding\n",
    "\n",
    "question_onehot = Hot_encoder.transform(question_df) # encoding of question"
   ]
  },
  {
   "cell_type": "code",
   "execution_count": 23,
   "id": "bac1e874",
   "metadata": {
    "scrolled": true
   },
   "outputs": [
    {
     "data": {
      "text/plain": [
       "array([1])"
      ]
     },
     "execution_count": 23,
     "metadata": {},
     "output_type": "execute_result"
    }
   ],
   "source": [
    "H_neigh.predict(question_onehot)"
   ]
  },
  {
   "cell_type": "markdown",
   "id": "d31769ac",
   "metadata": {},
   "source": [
    "With the result of the highest accuracy model producing 1 which represents low, we can conclude that the buying price of the car with the given specification is low with an accuracy of 30%."
   ]
  }
 ],
 "metadata": {
  "kernelspec": {
   "display_name": "Python 3 (ipykernel)",
   "language": "python",
   "name": "python3"
  },
  "language_info": {
   "codemirror_mode": {
    "name": "ipython",
    "version": 3
   },
   "file_extension": ".py",
   "mimetype": "text/x-python",
   "name": "python",
   "nbconvert_exporter": "python",
   "pygments_lexer": "ipython3",
   "version": "3.9.12"
  }
 },
 "nbformat": 4,
 "nbformat_minor": 5
}
